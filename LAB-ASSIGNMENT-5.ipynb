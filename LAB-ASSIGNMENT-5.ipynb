{
 "cells": [
  {
   "cell_type": "raw",
   "id": "0fa7cfa1",
   "metadata": {},
   "source": [
    "Task 1 \n",
    "Assume, you have been given a tuple. \n",
    "a_tuple = (\"The Institute\", (\"Best Mystery & Thriller\", \"The Silent Patient\", 68821), 75717, [1, 2, 3, 400, 5, 6, 7], (\"Best Fiction\", \"The Testaments\", 98291)) \n",
    "Write one line of Python code to access and print the value 400. \n",
    "===================================================================\n",
    "Output: 400 \n",
    "=================================================================="
   ]
  },
  {
   "cell_type": "code",
   "execution_count": 1,
   "id": "fcd8bcb1",
   "metadata": {},
   "outputs": [
    {
     "name": "stdout",
     "output_type": "stream",
     "text": [
      "400\n"
     ]
    }
   ],
   "source": [
    "a_tuple = (\"The Institute\", (\"Best Mystery & Thriller\", \"The Silent Patient\", 68821), 75717, [1, 2, 3, 400, 5, 6, 7], (\"Best Fiction\", \"The Testaments\", 98291))\n",
    "print(a_tuple[3][3])"
   ]
  },
  {
   "cell_type": "raw",
   "id": "e9cef735",
   "metadata": {},
   "source": [
    "Task 2 \n",
    "Assume, you have been given a tuple. Write a Python program that creates a new  tuple excluding the first and last two elements of the given tuple and prints the new tuple. \n",
    "Hint: You may use tuple slicing. \n",
    "=================================================================== \n",
    "Sample Input 1: \n",
    "(10, 20, 24, 25, 26, 35, 70) \n",
    "Sample Output 1: \n",
    "(24, 25, 26) \n",
    "=================================================================== \n",
    "Sample Input 2: \n",
    "(-10, 20, 30, 40) \n",
    "Sample Output 2: \n",
    "() \n",
    "=================================================================== \n",
    "Sample Input 3: \n",
    "(-10, 20, 25, 30, 40) \n",
    "Sample Output 3: \n",
    "(25,)"
   ]
  },
  {
   "cell_type": "code",
   "execution_count": 10,
   "id": "fb868252",
   "metadata": {},
   "outputs": [
    {
     "name": "stdout",
     "output_type": "stream",
     "text": [
      "(25,)\n",
      "(25,)\n"
     ]
    }
   ],
   "source": [
    "givenTup = (-10, 20, 25, 30, 40) \n",
    "outputTup = givenTup[2:-2:]\n",
    "print(outpuut )\n",
    "# list1 = []\n",
    "# count = 0\n",
    "# for i in givenTup:\n",
    "#     if (count > 1 and count < (len(givenTup)-2)):\n",
    "#         list1.append(i)\n",
    "#     count += 1\n",
    "# print(tuple(list1))\n",
    "# print(givenTup[-(len(givenTup)-2):-2:])"
   ]
  },
  {
   "cell_type": "raw",
   "id": "e78f480a",
   "metadata": {},
   "source": [
    "Task 3\n",
    "Assume, you have been given a tuple. \n",
    "book_info = ( \n",
    "(\"Best Mystery & Thriller\",\"The Silent Patient\",68,821), \n",
    "(\"Best Horror\",\"The Institute\",75,717), \n",
    "(\"Best History & Biography\",\"The five\",31,783 ), \n",
    "(\"Best Fiction\",\"The Testaments\",98,291) \n",
    ") \n",
    "Write a Python program that prints the size of the tuple and all its elements as shown below. =================================================================== \n",
    "Output: \n",
    "Size of the tuple is: 4 \n",
    "('Best Mystery & Thriller', 'The Silent Patient', 68, 821) \n",
    "('Best Horror', 'The Institute', 75, 717) \n",
    "('Best History & Biography', 'The five', 31, 783) \n",
    "('Best Fiction', 'The Testaments', 98, 291) \n",
    "=================================================================== "
   ]
  },
  {
   "cell_type": "code",
   "execution_count": 11,
   "id": "55c7a587",
   "metadata": {},
   "outputs": [
    {
     "name": "stdout",
     "output_type": "stream",
     "text": [
      "Size of the tuple is 4\n",
      "('Best Mystery & Thriller', 'The Silent Patient', 68, 821)\n",
      "('Best Horror', 'The Institute', 75, 717)\n",
      "('Best History & Biography', 'The five', 31, 783)\n",
      "('Best Fiction', 'The Testaments', 98, 291)\n"
     ]
    }
   ],
   "source": [
    "book_info = ( \n",
    "(\"Best Mystery & Thriller\",\"The Silent Patient\",68,821), \n",
    "(\"Best Horror\",\"The Institute\",75,717), \n",
    "(\"Best History & Biography\",\"The five\",31,783 ), \n",
    "(\"Best Fiction\",\"The Testaments\",98,291) \n",
    ")\n",
    "print('Size of the tuple is',len(book_info))\n",
    "for i in book_info:\n",
    "    print(i)"
   ]
  },
  {
   "cell_type": "raw",
   "id": "54d00c4a",
   "metadata": {},
   "source": [
    "Task 4\n",
    "Assume, you have been given a tuple with details about books that won the Good Reads  Choice Awards. \n",
    "book_info = ( \n",
    "(\"Best Mystery & Thriller\",\"The Silent Patient\",68821), \n",
    "(\"Best Horror\",\"The Institute\",75717), \n",
    "(\"Best History & Biography\",\"The five\",31783 ), \n",
    "(\"Best Fiction\",\"The Testaments\",98291) \n",
    ") \n",
    "Write a Python program that prints the award category, the book name, and its total votes  earned as shown below. \n",
    "[Must use Tuple unpacking for printing and need to handle the quotation marks as a part  of the output] \n",
    "=================================================================== \n",
    "Output: \n",
    "The Silent Patient won the 'Best Mystery & Thriller' category with 68821 votes \n",
    "The Institute won the 'Best Horror' category with 75717 votes \n",
    "The five won the 'Best History & Biography' category with 31783 votes \n",
    "The Testaments won the 'Best Fiction' category with 98291 votes \n",
    "==================================================================="
   ]
  },
  {
   "cell_type": "code",
   "execution_count": 1,
   "id": "f8a35b03",
   "metadata": {},
   "outputs": [
    {
     "name": "stdout",
     "output_type": "stream",
     "text": [
      "Best Mystery & Thriller won the best 'The Silent Patient' category with 68821 votes\n",
      "Best Horror won the best 'The Institute' category with 75717 votes\n",
      "Best History & Biography won the best 'The five' category with 31783 votes\n",
      "Best Fiction won the best 'The Testaments' category with 98291 votes\n"
     ]
    }
   ],
   "source": [
    "book_info = ( \n",
    "(\"Best Mystery & Thriller\",\"The Silent Patient\",68821), \n",
    "(\"Best Horror\",\"The Institute\",75717), \n",
    "(\"Best History & Biography\",\"The five\",31783 ), \n",
    "(\"Best Fiction\",\"The Testaments\",98291) \n",
    ") \n",
    "for i in book_info:\n",
    "    name, category, vote = i\n",
    "    print(name,'won the best',\"'\"+category+\"'\",'category with',vote,'votes')"
   ]
  },
  {
   "cell_type": "raw",
   "id": "ca42b976",
   "metadata": {},
   "source": [
    "Task 5\n",
    "Write a python program that takes an input from the user and finds the number of times that the input is present in a given tuple. \n",
    "=================================================================== Example 1: \n",
    "Given tuple: (10, 8, 5, 2, 10, 15, 10, 8, 5, 8, 8, 2) \n",
    "Sample Input 1: \n",
    "8 \n",
    "Sample Output 1: \n",
    "8 appears 4 times in the tuple \n",
    "=================================================================== Example 2 \n",
    "Given tuple: (10, 8, 5, 2, 10, 15, 10, 8, 5, 8, 8, 2) \n",
    "Sample Input 2: \n",
    "1 \n",
    "Sample Output 2: \n",
    "1 appears 0 times in the tuple \n",
    "=================================================================="
   ]
  },
  {
   "cell_type": "code",
   "execution_count": 3,
   "id": "0e67f497",
   "metadata": {},
   "outputs": [
    {
     "ename": "KeyboardInterrupt",
     "evalue": "Interrupted by user",
     "output_type": "error",
     "traceback": [
      "\u001b[1;31m---------------------------------------------------------------------------\u001b[0m",
      "\u001b[1;31mKeyboardInterrupt\u001b[0m                         Traceback (most recent call last)",
      "\u001b[1;32m~\\AppData\\Local\\Temp/ipykernel_848/2239624903.py\u001b[0m in \u001b[0;36m<module>\u001b[1;34m\u001b[0m\n\u001b[1;32m----> 1\u001b[1;33m \u001b[0minputValue\u001b[0m \u001b[1;33m=\u001b[0m \u001b[0minput\u001b[0m\u001b[1;33m(\u001b[0m\u001b[1;33m)\u001b[0m\u001b[1;33m\u001b[0m\u001b[1;33m\u001b[0m\u001b[0m\n\u001b[0m\u001b[0;32m      2\u001b[0m \u001b[0mgivenTuple\u001b[0m \u001b[1;33m=\u001b[0m \u001b[1;33m(\u001b[0m\u001b[1;36m10\u001b[0m\u001b[1;33m,\u001b[0m \u001b[1;36m8\u001b[0m\u001b[1;33m,\u001b[0m \u001b[1;36m5\u001b[0m\u001b[1;33m,\u001b[0m \u001b[1;36m2\u001b[0m\u001b[1;33m,\u001b[0m \u001b[1;36m10\u001b[0m\u001b[1;33m,\u001b[0m \u001b[1;36m15\u001b[0m\u001b[1;33m,\u001b[0m \u001b[1;36m10\u001b[0m\u001b[1;33m,\u001b[0m \u001b[1;36m8\u001b[0m\u001b[1;33m,\u001b[0m \u001b[1;36m5\u001b[0m\u001b[1;33m,\u001b[0m \u001b[1;36m8\u001b[0m\u001b[1;33m,\u001b[0m \u001b[1;36m8\u001b[0m\u001b[1;33m,\u001b[0m \u001b[1;36m2\u001b[0m\u001b[1;33m)\u001b[0m\u001b[1;33m\u001b[0m\u001b[1;33m\u001b[0m\u001b[0m\n\u001b[0;32m      3\u001b[0m \u001b[0mcount\u001b[0m \u001b[1;33m=\u001b[0m \u001b[1;36m0\u001b[0m\u001b[1;33m\u001b[0m\u001b[1;33m\u001b[0m\u001b[0m\n\u001b[0;32m      4\u001b[0m \u001b[1;32mfor\u001b[0m \u001b[0mi\u001b[0m \u001b[1;32min\u001b[0m \u001b[0mgivenTuple\u001b[0m\u001b[1;33m:\u001b[0m\u001b[1;33m\u001b[0m\u001b[1;33m\u001b[0m\u001b[0m\n\u001b[0;32m      5\u001b[0m     \u001b[1;32mif\u001b[0m \u001b[1;33m(\u001b[0m\u001b[0mi\u001b[0m \u001b[1;33m==\u001b[0m \u001b[0mint\u001b[0m\u001b[1;33m(\u001b[0m\u001b[0minputValue\u001b[0m\u001b[1;33m)\u001b[0m\u001b[1;33m)\u001b[0m\u001b[1;33m:\u001b[0m\u001b[1;33m\u001b[0m\u001b[1;33m\u001b[0m\u001b[0m\n",
      "\u001b[1;32mC:\\ProgramData\\Anaconda3\\lib\\site-packages\\ipykernel\\kernelbase.py\u001b[0m in \u001b[0;36mraw_input\u001b[1;34m(self, prompt)\u001b[0m\n\u001b[0;32m   1004\u001b[0m                 \u001b[1;34m\"raw_input was called, but this frontend does not support input requests.\"\u001b[0m\u001b[1;33m\u001b[0m\u001b[1;33m\u001b[0m\u001b[0m\n\u001b[0;32m   1005\u001b[0m             )\n\u001b[1;32m-> 1006\u001b[1;33m         return self._input_request(\n\u001b[0m\u001b[0;32m   1007\u001b[0m             \u001b[0mstr\u001b[0m\u001b[1;33m(\u001b[0m\u001b[0mprompt\u001b[0m\u001b[1;33m)\u001b[0m\u001b[1;33m,\u001b[0m\u001b[1;33m\u001b[0m\u001b[1;33m\u001b[0m\u001b[0m\n\u001b[0;32m   1008\u001b[0m             \u001b[0mself\u001b[0m\u001b[1;33m.\u001b[0m\u001b[0m_parent_ident\u001b[0m\u001b[1;33m[\u001b[0m\u001b[1;34m\"shell\"\u001b[0m\u001b[1;33m]\u001b[0m\u001b[1;33m,\u001b[0m\u001b[1;33m\u001b[0m\u001b[1;33m\u001b[0m\u001b[0m\n",
      "\u001b[1;32mC:\\ProgramData\\Anaconda3\\lib\\site-packages\\ipykernel\\kernelbase.py\u001b[0m in \u001b[0;36m_input_request\u001b[1;34m(self, prompt, ident, parent, password)\u001b[0m\n\u001b[0;32m   1049\u001b[0m             \u001b[1;32mexcept\u001b[0m \u001b[0mKeyboardInterrupt\u001b[0m\u001b[1;33m:\u001b[0m\u001b[1;33m\u001b[0m\u001b[1;33m\u001b[0m\u001b[0m\n\u001b[0;32m   1050\u001b[0m                 \u001b[1;31m# re-raise KeyboardInterrupt, to truncate traceback\u001b[0m\u001b[1;33m\u001b[0m\u001b[1;33m\u001b[0m\u001b[0m\n\u001b[1;32m-> 1051\u001b[1;33m                 \u001b[1;32mraise\u001b[0m \u001b[0mKeyboardInterrupt\u001b[0m\u001b[1;33m(\u001b[0m\u001b[1;34m\"Interrupted by user\"\u001b[0m\u001b[1;33m)\u001b[0m \u001b[1;32mfrom\u001b[0m \u001b[1;32mNone\u001b[0m\u001b[1;33m\u001b[0m\u001b[1;33m\u001b[0m\u001b[0m\n\u001b[0m\u001b[0;32m   1052\u001b[0m             \u001b[1;32mexcept\u001b[0m \u001b[0mException\u001b[0m\u001b[1;33m:\u001b[0m\u001b[1;33m\u001b[0m\u001b[1;33m\u001b[0m\u001b[0m\n\u001b[0;32m   1053\u001b[0m                 \u001b[0mself\u001b[0m\u001b[1;33m.\u001b[0m\u001b[0mlog\u001b[0m\u001b[1;33m.\u001b[0m\u001b[0mwarning\u001b[0m\u001b[1;33m(\u001b[0m\u001b[1;34m\"Invalid Message:\"\u001b[0m\u001b[1;33m,\u001b[0m \u001b[0mexc_info\u001b[0m\u001b[1;33m=\u001b[0m\u001b[1;32mTrue\u001b[0m\u001b[1;33m)\u001b[0m\u001b[1;33m\u001b[0m\u001b[1;33m\u001b[0m\u001b[0m\n",
      "\u001b[1;31mKeyboardInterrupt\u001b[0m: Interrupted by user"
     ]
    }
   ],
   "source": [
    "inputValue = input()\n",
    "givenTuple = (10, 8, 5, 2, 10, 15, 10, 8, 5, 8, 8, 2)\n",
    "count = 0\n",
    "for i in givenTuple:\n",
    "    if (i == int(inputValue)):\n",
    "        count += 1\n",
    "print(int(inputValue),'appears',count,'times in the tuple')"
   ]
  },
  {
   "cell_type": "raw",
   "id": "e8ad51d1",
   "metadata": {},
   "source": [
    "Task 6\n",
    "Write a Python program to reverse a given tuple. \n",
    "[You are not allowed to use tuple slicing] \n",
    "=================================================================== \n",
    "Note: Unlike lists, tuples are immutable. So, in order to reverse a tuple, we may need to convert  it into a list first, then modify the list, and finally convert it back to a tuple. \n",
    "=================================================================== Example 1: \n",
    "Given tuple: ('a', 'b', 'c', 'd', 'e', 'f', 'g', 'h') \n",
    "Output: \n",
    "('h', 'g', 'f', 'e', 'd', 'c', 'b', 'a') \n",
    "=================================================================== Example 2: \n",
    "Given tuple: (10, 20, 30, 40, 50, 60) \n",
    "Output: \n",
    "(60, 50, 40, 30, 20, 10)"
   ]
  },
  {
   "cell_type": "code",
   "execution_count": 17,
   "id": "8f23fb33",
   "metadata": {},
   "outputs": [
    {
     "name": "stdout",
     "output_type": "stream",
     "text": [
      "('h', 'g', 'f', 'e', 'd', 'c', 'b', 'a')\n"
     ]
    }
   ],
   "source": [
    "givenTup = ('a', 'b', 'c', 'd', 'e', 'f', 'g', 'h') \n",
    "listOut = []\n",
    "for i in range(len(givenTup)-1,-1,-1):\n",
    "    listOut.append(givenTup[i])\n",
    "print(tuple(listOut))"
   ]
  },
  {
   "cell_type": "raw",
   "id": "181b6bd1",
   "metadata": {},
   "source": [
    "Task 7\n",
    "Suppose you are given two dictionaries. \n",
    "Now create a new dictionary \"marks\", merging the two dictionaries, so that the original two  dictionaries remain unchanged. \n",
    "Note: You can use dictionary functions. \n",
    "=================================================================== Given: \n",
    "{'Harry':15, 'Draco':8, 'Nevil':19} \n",
    "{'Ginie':18, 'Luna': 14} \n",
    "Output: \n",
    "{'Harry': 15, 'Draco': 8, 'Nevil': 19, 'Ginie': 18, 'Luna': 14} \n",
    "=================================================================== Given: \n",
    "{'A':90, 'B': 0} \n",
    "{'C':50} \n",
    "Output: \n",
    "{'A': 90, 'B': 0, 'C': 50} \n",
    "=================================================================== "
   ]
  },
  {
   "cell_type": "code",
   "execution_count": 30,
   "id": "e9f9a152",
   "metadata": {},
   "outputs": [
    {
     "name": "stdout",
     "output_type": "stream",
     "text": [
      "{'Harry': 15, 'Draco': 8, 'Nevil': 19, 'Ginie': 18, 'Luna': 14}\n"
     ]
    }
   ],
   "source": [
    "dictionary1 = {'Harry':15, 'Draco':8, 'Nevil':19} \n",
    "dictionary2 = {'Ginie':18, 'Luna': 14}\n",
    "outputDict = {}\n",
    "for k,v in dictionary1.items():\n",
    "    outputDict[k] = v\n",
    "for k,v in dictionary2.items():\n",
    "    outputDict[k] = v\n",
    "print(outputDict)"
   ]
  },
  {
   "cell_type": "raw",
   "id": "4d589ddb",
   "metadata": {},
   "source": [
    "Task 8\n",
    "Write a Python program that takes a dictionary as an input from the user and then prints the  average of all the values in the dictionary. \n",
    "[You are not allowed to use len() and sum()] \n",
    "===================================================================\n",
    "Hint (1): For taking dictionary input \n",
    "Approach (1): For taking dictionary as an input from the user, you may take the whole dictionary  as a string using the input() function. Then you can use the split(), strip() functions and  conditions to get the keys and values from the string. Finally, you can make the dictionary using  the obtained data. \n",
    "Approach (2): If the first approach seems too difficult you can create an empty dictionary and  then just run a simple loop. For each iteration ask the user for a key and a value using the  input() function and keep updating the dictionary with the key and value. \n",
    "Hint (2): After you have a dictionary, you can use dictionary functions to get all the values from  it, run loop to calculate the sum and the total number of values in the dictionary in order to find  out the average.\n",
    "=================================================================== Sample Input 1: \n",
    "{'Jon': 100, 'Dan':200, 'Rob':300} \n",
    "Sample Output 1: \n",
    "Average is 200. \n",
    "=================================================================== Sample Input 2: \n",
    "{'Jon': 100, 'Dan':200, 'Rob':30, 'Ned':110} \n",
    "Sample Output 2: \n",
    "Average is 110. \n",
    "=================================================================== "
   ]
  },
  {
   "cell_type": "code",
   "execution_count": 18,
   "id": "e34dde64",
   "metadata": {},
   "outputs": [
    {
     "name": "stdout",
     "output_type": "stream",
     "text": [
      "How many pair of values you want to enter? 2\n",
      "a\n",
      "100\n",
      "b\n",
      "200\n",
      "150\n"
     ]
    }
   ],
   "source": [
    "# inputValue = input(\"Enter values separated by ',' : \")\n",
    "# final = inputValue.strip().split(',')\n",
    "# print(final)\n",
    "inputValue = input(\"How many pair of values you want to enter? \")\n",
    "dictionary = {}\n",
    "for i in range(int(inputValue)):\n",
    "    key = input()\n",
    "    value = input()\n",
    "    dictionary[key] = value\n",
    "# dictionary = {'Jon': 100, 'Dan':200, 'Rob':30, 'Ned':110} \n",
    "summation = 0\n",
    "counter = 0\n",
    "for v in dictionary.values():\n",
    "    summation += int(v)\n",
    "    counter += 1\n",
    "mean = summation // counter\n",
    "print(mean)"
   ]
  },
  {
   "cell_type": "raw",
   "id": "dec0adcf",
   "metadata": {},
   "source": [
    "Task 9\n",
    "Suppose there is a dictionary nab\n",
    "{'Cierra Vega': 175, 'Alden Cantrell': 200, 'Pierre Cox': 190} \n",
    "=================================================================== Sample Input 2: \n",
    "190 \n",
    "Sample Output 2: \n",
    "{'Alden Cantrell': 200, 'Pierre Cox': 190} \n",
    "==================================================================="
   ]
  },
  {
   "cell_type": "code",
   "execution_count": 36,
   "id": "475ed134",
   "metadata": {},
   "outputs": [
    {
     "name": "stdout",
     "output_type": "stream",
     "text": [
      "175\n",
      "{'Alden Cantrell': 200, 'Pierre Cox': 190}\n"
     ]
    }
   ],
   "source": [
    "exam_marks = {'Cierra Vega': 175, 'Alden Cantrell': 200, 'Kierra Gentry': 165, 'Pierre Cox': 190} \n",
    "inputValue = input()\n",
    "final = {}\n",
    "for k,v in exam_marks.items():\n",
    "    if (v > int(inputValue)):\n",
    "        final[k] = v\n",
    "print(final)"
   ]
  },
  {
   "cell_type": "raw",
   "id": "4d259ac4",
   "metadata": {},
   "source": [
    "Task 10\n",
    "Write a Python program that finds the largest value with its key from a given dictionary. [You are not allowed to use the max() function for this task] \n",
    "Note: You do not need to take the dictionaries as an input from the user but your code should  work for any given dictionary. Also, you need to handle the quotation marks as a part of the  output. \n",
    "Hint: Think of membership operators (in and not in). You can use dictionary functions to get the  values. \n",
    "=================================================================== Sample 1: \n",
    "Given: \n",
    "{'sci fi': 12, 'mystery': 15, 'horror': 8, 'mythology': 10, 'young_adult': 4, 'adventure':14} \n",
    "Output: \n",
    "The highest selling book genre is 'mystery' and the number of books sold are 15. =================================================================== \n",
    "Sample 2: \n",
    "Given: \n",
    "{'sci fi': 5, 'mystery': 3, 'horror': 14, 'young_adult': 2, 'adventure':9} \n",
    "Output: \n",
    "The highest selling book genre is 'horror' and the number of books sold are 14. =================================================================== "
   ]
  },
  {
   "cell_type": "code",
   "execution_count": 52,
   "id": "a29e26a3",
   "metadata": {},
   "outputs": [
    {
     "name": "stdout",
     "output_type": "stream",
     "text": [
      "The highest selling book genre is 'horror' and the number of books sold are 14\n"
     ]
    }
   ],
   "source": [
    "largest = 0\n",
    "givenDict = {'sci fi': 5, 'mystery': 3, 'horror': 14, 'young_adult': 2, 'adventure':9} \n",
    "for k,v in givenDict.items():\n",
    "    if (largest < v):\n",
    "        largest = v\n",
    "        genre = k\n",
    "        sold = v\n",
    "print('The highest selling book genre is',\"'\"+genre+\"'\",'and the number of books sold are',sold)"
   ]
  },
  {
   "cell_type": "raw",
   "id": "2f61b916",
   "metadata": {},
   "source": [
    "Task 11\n",
    "Write a Python program that takes a String as an input from the user and counts the frequency of each character using a dictionary. For solving this problem,\n",
    "you may use each character as a  key and its frequency as values. [You are not allowed to use the count() function] \n",
    "Hint: You can create a new dictionary to store the frequencies. You may ignore case for simplicity (i.e. may consider P and p to be the same). \n",
    "=================================================================== \n",
    "Sample Input: \n",
    "\"Python programming is fun\" \n",
    "Sample Output: \n",
    "{'p': 2, 'y': 1, 't': 1, 'h': 1, 'o': 2, 'n': 3, 'r': 2, 'g': 2, 'a': 1, 'm': 2, 'i': 2, 's': 1, 'f': 1, 'u': 1}\n",
    "=================================================================="
   ]
  },
  {
   "cell_type": "code",
   "execution_count": 21,
   "id": "01716512",
   "metadata": {},
   "outputs": [
    {
     "name": "stdout",
     "output_type": "stream",
     "text": [
      "\"Python programming is fun\"\n",
      "{'p': 2, 'y': 1, 't': 1, 'h': 1, 'o': 2, 'n': 3, 'r': 2, 'g': 2, 'a': 1, 'm': 2, 'i': 2, 's': 1, 'f': 1, 'u': 1}\n"
     ]
    }
   ],
   "source": [
    "inputValue = input().lower()\n",
    "dictionary = {}\n",
    "for i in inputValue[1:-1:]:\n",
    "    if (i != \" \"):\n",
    "        if (i not in dictionary):\n",
    "            dictionary[i] = 1\n",
    "        elif (i in dictionary):\n",
    "            dictionary[i] += 1\n",
    "print(dictionary)"
   ]
  },
  {
   "cell_type": "raw",
   "id": "0b174c3a",
   "metadata": {},
   "source": [
    "Task 12\n",
    "Suppose you are given the following dictionary where the values are lists. dict_1 = {'A': [1, 2, 3], 'b': ['1', '2'], \"c\": [4, 5, 6, 7]} \n",
    "Write a Python program that counts the total number of items in a dictionary’s values and prints  it. \n",
    "[Without using sum(), len(), count() functions] \n",
    "Note: Make changes to the above dictionary and see if your code works properly for other  dictionaries as well. \n",
    "=================================================================== \n",
    "Output: \n",
    "9 \n",
    "=================================================================== "
   ]
  },
  {
   "cell_type": "code",
   "execution_count": 24,
   "id": "a3674c34",
   "metadata": {},
   "outputs": [
    {
     "name": "stdout",
     "output_type": "stream",
     "text": [
      "10\n"
     ]
    }
   ],
   "source": [
    "dict_1 = {'A': [1, 2, 3], 'b': ['1', '2'], \"c\": 'AHNAF'}\n",
    "count = 0\n",
    "for v in dict_1.values():\n",
    "    for i in v:\n",
    "        count += 1\n",
    "print(count)"
   ]
  },
  {
   "cell_type": "raw",
   "id": "4d0a11b1",
   "metadata": {},
   "source": [
    "Task 13 \n",
    "Suppose you have been given the following list of tuples. \n",
    "list_1 = [(\"a\", 1), (\"b\", 2), (\"a\", 3), (\"b\", 1), (\"a\", 2), (\"c\", 1)] \n",
    "Write a Python program that converts this list of tuples into a dictionary and then prints the  dictionary. \n",
    "[You are not allowed to use set] \n",
    "Hint: Think of membership operators (in and not in). \n",
    "=================================================================== Output: \n",
    "{'a': [1, 3, 2], 'b': [2, 1], 'c': [1]} \n",
    "===================================================================\n"
   ]
  },
  {
   "cell_type": "code",
   "execution_count": 42,
   "id": "d890a54c",
   "metadata": {},
   "outputs": [
    {
     "name": "stdout",
     "output_type": "stream",
     "text": [
      "{'a': [1, 3, 2], 'b': [2, 1], 'c': [1]}\n"
     ]
    }
   ],
   "source": [
    "list_1 = [(\"a\", 1), (\"b\", 2), (\"a\", 3), (\"b\", 1), (\"a\", 2), (\"c\", 1)] \n",
    "dict1 = {}\n",
    "for i in list_1:\n",
    "    if (i[0] not in dict1):\n",
    "        dict1[i[0]] = [i[1]]\n",
    "    elif (i[0] in dict1):\n",
    "        dict1[i[0]].append(i[1])\n",
    "print(dict1)"
   ]
  },
  {
   "cell_type": "code",
   "execution_count": 43,
   "id": "f67cd622",
   "metadata": {},
   "outputs": [
    {
     "name": "stdout",
     "output_type": "stream",
     "text": [
      "False\n",
      "False\n",
      "False\n",
      "False\n",
      "False\n",
      "True\n",
      "False\n",
      "False\n",
      "False\n",
      "True\n"
     ]
    }
   ],
   "source": [
    "1 \n",
    "var1 = var2 = var3 = var4 = var5 = var6 = False\n",
    "2 \n",
    "result1 = result2 = result3 = result4 = result5 = result6 =  result7 = result8 = result9 = result10 = False\n",
    "3 \n",
    "var1 = 4 < 3 - 1\n",
    "4 \n",
    "var2 = var1 and False\n",
    "5 \n",
    "var3 = False\n",
    "6 \n",
    "var4 = True\n",
    "7 \n",
    "var5 = False\n",
    "8 \n",
    "var6 = var3 and True\n",
    "9 \n",
    "result1 = (var1 or var2) and (8 * 10 > 45)\n",
    "10 \n",
    "result2 = (var1 or var2) and (result1 and False)\n",
    "11 \n",
    "result3 = (var1 and result1) or result2\n",
    "12 \n",
    "result4 = (var1 or var2) or ((var3 and var1) and False)\n",
    "13 \n",
    "result5 = (var1 and var2) and (result3 or var1)\n",
    "14 \n",
    "result6 = ((var3 or var2) and not result5) or True\n",
    "15 \n",
    "result7 = (var4 and result1) and ((result1 and False) or True)\n",
    "16 \n",
    "result8 = ((var1 and result3) and (var5 or var6)) and True\n",
    "17 \n",
    "result9 = ((result2 and var2) or (result7 and var1)) and False \n",
    "result10 = not(var1 and True)\n",
    "print(True and False)\n",
    "print(result2)\n",
    "print(result3)\n",
    "print(result4)\n",
    "print(result5)\n",
    "print(result6)\n",
    "print(result7)\n",
    "print(result8)\n",
    "print(result9)\n",
    "print(result10)"
   ]
  }
 ],
 "metadata": {
  "kernelspec": {
   "display_name": "Python 3 (ipykernel)",
   "language": "python",
   "name": "python3"
  },
  "language_info": {
   "codemirror_mode": {
    "name": "ipython",
    "version": 3
   },
   "file_extension": ".py",
   "mimetype": "text/x-python",
   "name": "python",
   "nbconvert_exporter": "python",
   "pygments_lexer": "ipython3",
   "version": "3.9.7"
  }
 },
 "nbformat": 4,
 "nbformat_minor": 5
}
